{
  "cells": [
    {
      "cell_type": "markdown",
      "metadata": {
        "id": "view-in-github",
        "colab_type": "text"
      },
      "source": [
        "<a href=\"https://colab.research.google.com/github/ipeirotis/introduction-to-databases/blob/master/session1/A5-Inserting_Data_in_MySQL_using_Python.ipynb\" target=\"_parent\"><img src=\"https://colab.research.google.com/assets/colab-badge.svg\" alt=\"Open In Colab\"/></a>"
      ]
    },
    {
      "cell_type": "code",
      "execution_count": 1,
      "metadata": {
        "id": "Zq3aQJmsEt1L",
        "outputId": "df0cf6b1-57aa-49e8-86e6-425f96359196",
        "colab": {
          "base_uri": "https://localhost:8080/"
        }
      },
      "outputs": [
        {
          "output_type": "stream",
          "name": "stdout",
          "text": [
            "\u001b[2K     \u001b[90m━━━━━━━━━━━━━━━━━━━━━━━━━━━━━━━━━━━━━━━━\u001b[0m \u001b[32m44.8/44.8 kB\u001b[0m \u001b[31m1.6 MB/s\u001b[0m eta \u001b[36m0:00:00\u001b[0m\n",
            "\u001b[2K     \u001b[90m━━━━━━━━━━━━━━━━━━━━━━━━━━━━━━━━━━━━━━━━\u001b[0m \u001b[32m3.0/3.0 MB\u001b[0m \u001b[31m40.5 MB/s\u001b[0m eta \u001b[36m0:00:00\u001b[0m\n",
            "\u001b[2K     \u001b[90m━━━━━━━━━━━━━━━━━━━━━━━━━━━━━━━━━━━━━━━━\u001b[0m \u001b[32m1.6/1.6 MB\u001b[0m \u001b[31m42.2 MB/s\u001b[0m eta \u001b[36m0:00:00\u001b[0m\n",
            "\u001b[2K     \u001b[90m━━━━━━━━━━━━━━━━━━━━━━━━━━━━━━━━━━━━━━\u001b[0m \u001b[32m121.9/121.9 kB\u001b[0m \u001b[31m11.0 MB/s\u001b[0m eta \u001b[36m0:00:00\u001b[0m\n",
            "\u001b[2K     \u001b[90m━━━━━━━━━━━━━━━━━━━━━━━━━━━━━━━━━━━━━━━━\u001b[0m \u001b[32m93.4/93.4 kB\u001b[0m \u001b[31m6.0 MB/s\u001b[0m eta \u001b[36m0:00:00\u001b[0m\n",
            "\u001b[?25h"
          ]
        }
      ],
      "source": [
        "!sudo pip3 install -U -q PyMySQL sqlalchemy sql_magic"
      ]
    },
    {
      "cell_type": "markdown",
      "metadata": {
        "id": "IhpLu2WHEt02"
      },
      "source": [
        "## Inserting data in MySQL using Python\n",
        "\n",
        "First let's start with a basic piece of code that fetches the data that we want to insert in the database. For our example, we will get the data about the Citibike stations, using the correspoding API call provided by the Citibike website:"
      ]
    },
    {
      "cell_type": "code",
      "execution_count": 2,
      "metadata": {
        "id": "g-_StVU-Et03"
      },
      "outputs": [],
      "source": [
        "import requests\n",
        "import uuid\n",
        "from datetime import date, datetime, timedelta"
      ]
    },
    {
      "cell_type": "code",
      "execution_count": 3,
      "metadata": {
        "id": "Ues1lO5FEt09"
      },
      "outputs": [],
      "source": [
        "# Let's get the data from the Citibike API\n",
        "url = \"https://gbfs.citibikenyc.com/gbfs/en/station_information.json\"\n",
        "results = requests.get(url).json()"
      ]
    },
    {
      "cell_type": "code",
      "execution_count": 4,
      "metadata": {
        "id": "Jzs_lCvxEt1B"
      },
      "outputs": [],
      "source": [
        "# We only need a subset of the data in the JSON returned by the Citibike API, so we keep only we need\n",
        "data = results[\"data\"][\"stations\"]"
      ]
    },
    {
      "cell_type": "code",
      "execution_count": 5,
      "metadata": {
        "id": "gTbzvvk7J-Fd",
        "outputId": "1a85e518-ece5-46f2-d7ec-b0d0963d175c",
        "colab": {
          "base_uri": "https://localhost:8080/"
        }
      },
      "outputs": [
        {
          "output_type": "execute_result",
          "data": {
            "text/plain": [
              "{'rental_methods': ['KEY', 'CREDITCARD'],\n",
              " 'lat': 40.763604677958625,\n",
              " 'external_id': 'b442a648-e9f4-4893-951a-64d258bc0e55',\n",
              " 'lon': -73.98917958140373,\n",
              " 'capacity': 30,\n",
              " 'station_id': 'b442a648-e9f4-4893-951a-64d258bc0e55',\n",
              " 'eightd_has_key_dispenser': False,\n",
              " 'station_type': 'classic',\n",
              " 'region_id': '71',\n",
              " 'electric_bike_surcharge_waiver': False,\n",
              " 'name': 'W 50 St & 9 Ave',\n",
              " 'has_kiosk': True,\n",
              " 'short_name': '6854.05',\n",
              " 'rental_uris': {'android': 'https://bkn.lft.to/lastmile_qr_scan',\n",
              "  'ios': 'https://bkn.lft.to/lastmile_qr_scan'},\n",
              " 'eightd_station_services': []}"
            ]
          },
          "metadata": {},
          "execution_count": 5
        }
      ],
      "source": [
        "data[1]"
      ]
    },
    {
      "cell_type": "code",
      "execution_count": 6,
      "metadata": {
        "id": "jAlZwKq8J0OM",
        "outputId": "2773c6fe-9716-49e5-f7b0-b00fac0fc09b",
        "colab": {
          "base_uri": "https://localhost:8080/"
        }
      },
      "outputs": [
        {
          "output_type": "execute_result",
          "data": {
            "text/plain": [
              "2098"
            ]
          },
          "metadata": {},
          "execution_count": 6
        }
      ],
      "source": [
        "len(data)"
      ]
    },
    {
      "cell_type": "code",
      "execution_count": 7,
      "metadata": {
        "id": "KxuM5dGREt1Q"
      },
      "outputs": [],
      "source": [
        "from sqlalchemy import create_engine\n",
        "from sqlalchemy import text\n",
        "\n",
        "conn_string = \"mysql+pymysql://{user}:{password}@{host}/\".format(\n",
        "    host=\"db.ipeirotis.org\", user=\"student\", password=\"dwdstudent2015\"\n",
        ")\n",
        "\n",
        "engine = create_engine(conn_string)"
      ]
    },
    {
      "cell_type": "markdown",
      "metadata": {
        "id": "VzsnOW_AEt1U"
      },
      "source": [
        "Once we have connected successfully, we need to create our database:"
      ]
    },
    {
      "cell_type": "code",
      "execution_count": 8,
      "metadata": {
        "id": "TQT4IE2FEt1U"
      },
      "outputs": [],
      "source": [
        "# Query to create a database\n",
        "# In this example, we will try to create the (existing) database \"public\"\n",
        "# But in general, we can give any name to the database\n",
        "db_name = \"public\"\n",
        "create_db_query = (\n",
        "    f\"CREATE DATABASE IF NOT EXISTS {db_name} DEFAULT CHARACTER SET 'utf8'\"\n",
        ")\n",
        "\n",
        "# Create a database\n",
        "with engine.connect() as connection:\n",
        "  connection.execute(text(create_db_query))"
      ]
    },
    {
      "cell_type": "markdown",
      "metadata": {
        "id": "3sa0ArJhEt1Z"
      },
      "source": [
        "Then we create the table where we will store our data. For our example, we will just import three fields in the database: station_id, station_name, and number_of_docks"
      ]
    },
    {
      "cell_type": "code",
      "execution_count": 9,
      "metadata": {
        "id": "qzWnULWfEt1a",
        "outputId": "9ca027be-41d9-4862-905c-d090d6ecb232",
        "colab": {
          "base_uri": "https://localhost:8080/"
        }
      },
      "outputs": [
        {
          "output_type": "stream",
          "name": "stdout",
          "text": [
            "d94ec55c\n"
          ]
        }
      ],
      "source": [
        "# To avoid conflicts between people writing in the same database, we add a random suffix in the tables\n",
        "# We only create the variable once while running the notebook\n",
        "if \"suffix\" not in globals():\n",
        "    suffix = str(uuid.uuid4())[:8]\n",
        "print(suffix)"
      ]
    },
    {
      "cell_type": "code",
      "execution_count": 10,
      "metadata": {
        "id": "GW0oeuOcEt1e"
      },
      "outputs": [],
      "source": [
        "table_name = f\"Docks_{suffix}\"\n",
        "\n",
        "# Drop the table if there is one already\n",
        "drop_table_query = f\"DROP TABLE IF EXISTS {db_name}.{table_name}\"\n",
        "with engine.connect() as connection:\n",
        "  connection.execute(text(drop_table_query))\n",
        "\n",
        "# Create a table\n",
        "create_table_query = f\"\"\"CREATE TABLE IF NOT EXISTS {db_name}.{table_name}\n",
        "                                (station_id varchar(50),\n",
        "                                station_name varchar(50),\n",
        "                                capacity int,\n",
        "                                PRIMARY KEY(station_id)\n",
        "                                )\"\"\"\n",
        "\n",
        "with engine.connect() as connection:\n",
        "  connection.execute(text(create_table_query))\n"
      ]
    },
    {
      "cell_type": "markdown",
      "metadata": {
        "id": "hdI9lReyEt1h"
      },
      "source": [
        "Finally, we import the data into our table, using the INSERT command. (_Note: The `INSERT IGNORE` directs the database to ignore attempts to insert another tuple with the same primary key. In our case, we do not want to allow two entries for the same `station_id`._)"
      ]
    },
    {
      "cell_type": "code",
      "execution_count": null,
      "metadata": {
        "id": "qQLqOddcEt1i"
      },
      "outputs": [],
      "source": [
        "query_template = f\"\"\"\n",
        "                    INSERT IGNORE INTO\n",
        "                    {db_name}.{table_name}(station_id,  station_name,  capacity)\n",
        "                    VALUES (:station_id, :station_name, :capacity)\n",
        "                  \"\"\"\n",
        "\n",
        "# THIS IS PROHIBITED\n",
        "# query = \"INSERT INTO citibike.Docks(station_id, station_name, number_of_docks) \" + \\\n",
        "#         \"VALUES (\"+entry[\"id\"]+\", \"+entry[\"stationName\"]+\", \"+entry[\"totalDocks\"]+\")\"\n",
        "\n",
        "with engine.connect() as connection:\n",
        "  for entry in data:\n",
        "      query_parameters = {\n",
        "          \"station_id\": entry[\"station_id\"],\n",
        "          \"station_name\": entry[\"name\"],\n",
        "          \"capacity\": entry[\"capacity\"]\n",
        "      }\n",
        "      print(\"Inserting station\", entry[\"station_id\"], \"at\", entry[\"name\"], \"with\", entry[\"capacity\"], \"docks\")\n",
        "      connection.execute(text(query_template), query_parameters)\n",
        "  connection.commit()"
      ]
    },
    {
      "cell_type": "markdown",
      "source": [
        "## Query the Database to retrieve the data"
      ],
      "metadata": {
        "id": "0y3Dn5m-DEmn"
      }
    },
    {
      "cell_type": "markdown",
      "metadata": {
        "id": "nZPtYSJOEt1s"
      },
      "source": [
        "Now let's see how to query the database"
      ]
    },
    {
      "cell_type": "code",
      "execution_count": 12,
      "metadata": {
        "id": "qcdbX7AWEt1t"
      },
      "outputs": [],
      "source": [
        "with engine.connect() as connection:\n",
        "  results = connection.execute(text(f\"SELECT station_id, station_name, capacity FROM {db_name}.{table_name}\"))\n",
        "  rows = results.mappings().all()\n"
      ]
    },
    {
      "cell_type": "code",
      "execution_count": 13,
      "metadata": {
        "id": "BT-lYjnXEt1w",
        "outputId": "2f4deaca-3759-48ce-d9b5-9ac9a3ab9563",
        "colab": {
          "base_uri": "https://localhost:8080/"
        }
      },
      "outputs": [
        {
          "output_type": "stream",
          "name": "stdout",
          "text": [
            "Number of rows: 2098\n",
            "=============================================\n"
          ]
        }
      ],
      "source": [
        "# Let's check how many data points we got back\n",
        "print(f\"Number of rows: {len(rows)}\")\n",
        "print(\"=============================================\")"
      ]
    },
    {
      "cell_type": "code",
      "source": [
        "# And now let's go over the results\n",
        "for row in rows:\n",
        "    print(\"Station ID:\", row['station_id'])\n",
        "    print(\"Station Name:\", row['station_name'])\n",
        "    print(\"Number of Docks:\", row['capacity'])\n",
        "    print(\"=============================================\")"
      ],
      "metadata": {
        "id": "yc9ZgIoNvXvY"
      },
      "execution_count": null,
      "outputs": []
    },
    {
      "cell_type": "markdown",
      "metadata": {
        "id": "Ifc_6hwwEt1z"
      },
      "source": [
        "Finally, let's clean up and close our database connection."
      ]
    },
    {
      "cell_type": "code",
      "execution_count": 15,
      "metadata": {
        "id": "AWMXngKcEt1z"
      },
      "outputs": [],
      "source": [
        "drop_table_query = f\"DROP TABLE IF EXISTS {db_name}.{table_name}\"\n",
        "with engine.connect() as connection:\n",
        "  connection.execute(text(drop_table_query))"
      ]
    },
    {
      "cell_type": "markdown",
      "metadata": {
        "id": "W9fjdQPNLwfh"
      },
      "source": [
        "## Exercise\n",
        "\n",
        "At `https://gbfs.citibikenyc.com/gbfs/en/station_status.json` we can access the live status of all the stations (e.g., bikes available etc). Using the approach outlined above, create a table in the database (using the same table suffix that we created above) and store the data in the database."
      ]
    }
  ],
  "metadata": {
    "colab": {
      "name": "A5-Inserting_Data_in_MySQL_using_Python.ipynb",
      "provenance": [],
      "include_colab_link": true
    },
    "kernelspec": {
      "display_name": "Python 3",
      "language": "python",
      "name": "python3"
    },
    "language_info": {
      "codemirror_mode": {
        "name": "ipython",
        "version": 3
      },
      "file_extension": ".py",
      "mimetype": "text/x-python",
      "name": "python",
      "nbconvert_exporter": "python",
      "pygments_lexer": "ipython3",
      "version": "3.8.2"
    }
  },
  "nbformat": 4,
  "nbformat_minor": 0
}